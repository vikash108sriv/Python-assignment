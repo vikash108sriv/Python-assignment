{
 "cells": [
  {
   "cell_type": "markdown",
   "id": "78584080-7ff8-4bd6-9e41-ae9def96e346",
   "metadata": {},
   "source": [
    "# Q1. Write a program to calculate the electricity bill\n",
    "# using only if statement? (accept number of unit from user)\n",
    "# according to the following criteria:\n",
    "\n",
    "# Unit Price\n",
    "# First 100 units no charge\n",
    "# Next 100 units Rs 5 per unit\n",
    "# After 200 units Rs 10 per unit\n",
    "# (For example, if input unit is 350 than total bill amount is Rs2000). Lets explain...\n",
    "# For first 100 no charges\n",
    "# Now you have 250 unit remaining\n",
    "# 100-200 you need to pay – 100*5 = 500\n",
    "# Now 200-100 you need to pay 150*10 = 1500\n",
    "# Total = 500+1500 = 2000"
   ]
  },
  {
   "cell_type": "code",
   "execution_count": 1,
   "id": "f7bc4262-0d90-49e2-9b19-d3d5aab65d5e",
   "metadata": {},
   "outputs": [
    {
     "name": "stdin",
     "output_type": "stream",
     "text": [
      "Enter your units : 350\n"
     ]
    },
    {
     "name": "stdout",
     "output_type": "stream",
     "text": [
      "Electricity bill is:Rs 2000\n"
     ]
    }
   ],
   "source": [
    "unit=int(input(\"Enter your units :\"))\n",
    "if unit<=100:\n",
    "    Bill=0 \n",
    "    print(\"No charge\")\n",
    "if unit>100 and unit<=200:\n",
    "    Bill=(unit-100)*5\n",
    "if unit>200:\n",
    "    Bill=100*5 + (unit-200)*10\n",
    "print(\"Electricity bill is:Rs\",Bill )    "
   ]
  },
  {
   "cell_type": "markdown",
   "id": "7f9f25da-1794-499e-9404-1cb18d117b01",
   "metadata": {},
   "source": [
    "Q2. Write a program to accept percentage from the user and display\n",
    "the grade according to the following criteria:\n",
    "\n",
    "Marks Grade\n",
    "> 90 A\n",
    "> 80 and <= 90 B\n",
    ">= 60 and <= 80 C\n",
    "below 60 D"
   ]
  },
  {
   "cell_type": "code",
   "execution_count": 7,
   "id": "ab217337-fb23-492e-8a8f-c9765c6571ab",
   "metadata": {},
   "outputs": [
    {
     "name": "stdin",
     "output_type": "stream",
     "text": [
      "Enter percentage: 55\n"
     ]
    },
    {
     "name": "stdout",
     "output_type": "stream",
     "text": [
      "Grade:D\n"
     ]
    }
   ],
   "source": [
    "percentage=int(input(\"Enter percentage:\"))\n",
    "if percentage >90:\n",
    "    print(\"Grade : A\")\n",
    "if percentage>80 and percentage <=90:\n",
    "    print (\"Grade :B\")\n",
    "if percentage >=60 and percentage <=80:\n",
    "    print(\"Grade :C\")\n",
    "if percentage <60 :\n",
    "    print(\"Grade:D\")"
   ]
  },
  {
   "cell_type": "markdown",
   "id": "8fe9f35a-6299-43a6-a3db-1c9128e32df8",
   "metadata": {},
   "source": [
    "Q3. Accept the age of 4 people and display the youngest one?"
   ]
  },
  {
   "cell_type": "code",
   "execution_count": 8,
   "id": "b0bb0e5e-e6e9-4e0c-b7de-bca595ca5b4b",
   "metadata": {},
   "outputs": [
    {
     "name": "stdin",
     "output_type": "stream",
     "text": [
      "Enter age of person 1:  95\n",
      "Enter age of person 2:  45\n",
      "Enter age of person 3:  34\n",
      "Enter age of person 4:  22\n"
     ]
    },
    {
     "name": "stdout",
     "output_type": "stream",
     "text": [
      "The youngest age is: 22\n"
     ]
    }
   ],
   "source": [
    "# Accept ages of 4 people\n",
    "age1 = int(input(\"Enter age of person 1: \"))\n",
    "age2 = int(input(\"Enter age of person 2: \"))\n",
    "age3 = int(input(\"Enter age of person 3: \"))\n",
    "age4 = int(input(\"Enter age of person 4: \"))\n",
    "\n",
    "# Assume age1 is the youngest\n",
    "youngest = age1\n",
    "\n",
    "# Compare and update using if-else\n",
    "if age2 < youngest:\n",
    "    youngest = age2\n",
    "if age3 < youngest:\n",
    "    youngest = age3\n",
    "if age4 < youngest:\n",
    "    youngest = age4\n",
    "\n",
    "# Display the youngest age\n",
    "print(f\"The youngest age is: {youngest}\")\n"
   ]
  },
  {
   "cell_type": "markdown",
   "id": "59d207d7-2039-4926-b6a8-0db5372785cf",
   "metadata": {},
   "source": [
    "Q4. A company decided to give bonus to employee\n",
    "according to following criteria:\n",
    "\n",
    "Time period of Service Bonus\n",
    "\n",
    "More than 10 years 10%\n",
    "\n",
    ">=6 and <=10 8%\n",
    "\n",
    "Less than 6 years 5%\n",
    "\n",
    "Ask user for their salary and years of service and print the\n",
    "net bonus amount?"
   ]
  },
  {
   "cell_type": "code",
   "execution_count": 17,
   "id": "f8f44bd1-b513-458e-ac98-4fa0eafce419",
   "metadata": {},
   "outputs": [
    {
     "name": "stdin",
     "output_type": "stream",
     "text": [
      "Enter your salary: 1000\n",
      "Enter years of services : 4\n"
     ]
    },
    {
     "name": "stdout",
     "output_type": "stream",
     "text": [
      "your net bonus amount is : RS 50.0\n"
     ]
    }
   ],
   "source": [
    "salary=float(input(\"Enter your salary:\"))\n",
    "years_of_service=int(input(\"Enter years of services :\"))\n",
    "if years_of_service>10:\n",
    "    bonus=salary*0.10\n",
    "elif years_of_service >= 6 and years_of_service <= 10:\n",
    "    bonus=salary*.08\n",
    "else:\n",
    "    bonus=salary*.05\n",
    "print(f\"your net bonus amount is : RS {bonus}\")"
   ]
  },
  {
   "cell_type": "markdown",
   "id": "94a7c86b-643a-4cda-a458-71f730fac4e4",
   "metadata": {},
   "source": [
    "Q5. Accept three numbers from the user and\n",
    "display the second largest number?"
   ]
  },
  {
   "cell_type": "code",
   "execution_count": 18,
   "id": "da0744f5-2e01-425d-9125-81cc618bb9c5",
   "metadata": {},
   "outputs": [
    {
     "name": "stdin",
     "output_type": "stream",
     "text": [
      "Enter first number:  10\n",
      "Enter second number:  8\n",
      "Enter third number:  9\n"
     ]
    },
    {
     "name": "stdout",
     "output_type": "stream",
     "text": [
      "The second largest number is: 9\n"
     ]
    }
   ],
   "source": [
    "# Accept three numbers from the user\n",
    "num1 = int(input(\"Enter first number: \"))\n",
    "num2 = int(input(\"Enter second number: \"))\n",
    "num3 = int(input(\"Enter third number: \"))\n",
    "\n",
    "# Find the second largest number\n",
    "if (num1 > num2 and num1 < num3) or (num1 > num3 and num1 < num2):\n",
    "    second_largest = num1\n",
    "elif (num2 > num1 and num2 < num3) or (num2 > num3 and num2 < num1):\n",
    "    second_largest = num2\n",
    "else:\n",
    "    second_largest = num3\n",
    "\n",
    "# Display the second largest number\n",
    "print(f\"The second largest number is: {second_largest}\")\n"
   ]
  },
  {
   "cell_type": "markdown",
   "id": "65730103-b546-4293-89ed-900f6d4d920f",
   "metadata": {},
   "source": [
    "Q6. Accept the marked price from the user and calculate\n",
    "the Net amount as (Marked Price – Discount) to pay\n",
    "according to following criteria:\n",
    "\n",
    "Marked Price Discount\n",
    ">10000 20%\n",
    ">7000 and <=10000 15%\n",
    "<=7000 10%"
   ]
  },
  {
   "cell_type": "code",
   "execution_count": 19,
   "id": "956d6ede-b4aa-4af8-a327-857641fa1658",
   "metadata": {},
   "outputs": [
    {
     "name": "stdin",
     "output_type": "stream",
     "text": [
      "Enter the marked price:  10001\n"
     ]
    },
    {
     "name": "stdout",
     "output_type": "stream",
     "text": [
      "Discount Amount: 2000.2\n",
      "Customer: 8000.8\n"
     ]
    }
   ],
   "source": [
    "marked_price=int(input(\"Enter the marked price: \"))\n",
    "\n",
    "if marked_price > 10000:\n",
    "    discount = 0.20 * marked_price\n",
    "elif marked_price > 7000 and marked_price <= 10000:\n",
    "    discount = 0.15 * marked_price\n",
    "else:\n",
    "    discount = 0.10 * marked_price\n",
    "\n",
    "\n",
    "net_amount = marked_price - discount\n",
    "\n",
    "print(\"Discount Amount:\", discount)\n",
    "print(\"Customer:\",net_amount )"
   ]
  },
  {
   "cell_type": "markdown",
   "id": "05160228-6b42-4ced-93e9-792afc7bd570",
   "metadata": {},
   "source": [
    "Q7. Accept the marks of English, Math and Science,\n",
    "Social Studies Subject and display the stream allotted\n",
    "according to following:\n",
    "\n",
    "All Subjects more than 80 marks — Science Stream\n",
    "\n",
    "English >80 and Math, Science above 50 — Commerce Stream\n",
    "\n",
    "English > 80 and social studies > 80 — Humanities"
   ]
  },
  {
   "cell_type": "code",
   "execution_count": 23,
   "id": "4603e560-594e-4e54-aadc-00df3ab06f3c",
   "metadata": {},
   "outputs": [
    {
     "name": "stdin",
     "output_type": "stream",
     "text": [
      "Enter marks in english: 100\n",
      "Enter Marks in Math: 85\n",
      "Enter Marks in Science: 85\n",
      "Enter Marks in social studies: 85\n"
     ]
    },
    {
     "name": "stdout",
     "output_type": "stream",
     "text": [
      "the alloted stream is :science stream\n"
     ]
    }
   ],
   "source": [
    "English_marks=int(input(\"Enter marks in english:\"))\n",
    "Math_marks=int(input(\"Enter Marks in Math:\"))\n",
    "Science_marks=int(input(\"Enter Marks in Science:\"))\n",
    "socialstudies_marks=int(input(\"Enter Marks in social studies:\"))\n",
    "\n",
    "if English_marks >80 and Math_marks >80 and Science_marks >80 and socialstudies_marks >80:\n",
    "    stream =\"science stream\"\n",
    "elif English_marks >80 and Math_marks >50 and Science_marks >50:\n",
    "    stream= \"Commerce stream\"\n",
    "elif English_marks >80 and socialstudies_marks >80:\n",
    "    stream=\"Humainities\"\n",
    "else:\n",
    "    stream=\"No specific stream alloted\"\n",
    "print(f\"the alloted stream is :{stream}\")"
   ]
  },
  {
   "cell_type": "markdown",
   "id": "cb66c637-3c1f-4dd4-b871-b4441b0e7ed6",
   "metadata": {},
   "source": [
    "Q8. Write a program to display \"Hello\" if a number entered\n",
    "by user is a multiple of five, otherwise print \"Bye\"?"
   ]
  },
  {
   "cell_type": "code",
   "execution_count": 25,
   "id": "86aa0181-ec71-4dfc-8200-dff3d0482fa0",
   "metadata": {},
   "outputs": [
    {
     "name": "stdin",
     "output_type": "stream",
     "text": [
      "Enter your number 56\n"
     ]
    },
    {
     "name": "stdout",
     "output_type": "stream",
     "text": [
      "Byee\n"
     ]
    }
   ],
   "source": [
    "number=int(input(\"Enter your number\"))\n",
    "if number%5 == 0:\n",
    "    print(\"Hello\")\n",
    "else:\n",
    "    print(\"Byee\")\n"
   ]
  },
  {
   "cell_type": "markdown",
   "id": "0a209390-2980-4581-8ee6-1e98c0e44a27",
   "metadata": {},
   "source": [
    "Q9. Write a program to check whether the last digit of a number\n",
    "(entered by user) is divisible by 3 or not?"
   ]
  },
  {
   "cell_type": "code",
   "execution_count": 27,
   "id": "c16bffa2-34fe-4c64-bcce-8866f10aaa51",
   "metadata": {},
   "outputs": [
    {
     "name": "stdin",
     "output_type": "stream",
     "text": [
      "Enter a number:  99\n"
     ]
    },
    {
     "name": "stdout",
     "output_type": "stream",
     "text": [
      "The last digit (9) is divisible by 3.\n"
     ]
    }
   ],
   "source": [
    " #Ask the user to enter a number\n",
    "number = int(input(\"Enter a number: \"))\n",
    "\n",
    "# Get the last digit using modulo 10\n",
    "last_digit = number % 10\n",
    "\n",
    "# Check if the last digit is divisible by 3\n",
    "if last_digit % 3 == 0:\n",
    "    print(f\"The last digit ({last_digit}) is divisible by 3.\")\n",
    "else:\n",
    "    print(f\"The last digit ({last_digit}) is NOT divisible by 3.\")"
   ]
  },
  {
   "cell_type": "markdown",
   "id": "5891a8e3-1167-43ed-8b31-664e15454d03",
   "metadata": {},
   "source": [
    "Q10. Write a program to check whether a number entered\n",
    "is three-digit number or not?"
   ]
  },
  {
   "cell_type": "code",
   "execution_count": 32,
   "id": "b7a72472-4f48-430a-ae70-947d20e9b562",
   "metadata": {},
   "outputs": [
    {
     "name": "stdin",
     "output_type": "stream",
     "text": [
      "Enter a number 99\n"
     ]
    },
    {
     "name": "stdout",
     "output_type": "stream",
     "text": [
      "it is not a three digit number\n"
     ]
    }
   ],
   "source": [
    "num=int(input(\"Enter a number\"))\n",
    "if num>=100 and num<=999:\n",
    "    print(\"It is a three digit number\")\n",
    "if num<100 or num>999:\n",
    "        print(\"it is not a three digit number\")"
   ]
  },
  {
   "cell_type": "code",
   "execution_count": null,
   "id": "2f36bb89-bb80-4338-833f-f59f81b037e9",
   "metadata": {},
   "outputs": [],
   "source": []
  }
 ],
 "metadata": {
  "kernelspec": {
   "display_name": "Python 3 (ipykernel)",
   "language": "python",
   "name": "python3"
  },
  "language_info": {
   "codemirror_mode": {
    "name": "ipython",
    "version": 3
   },
   "file_extension": ".py",
   "mimetype": "text/x-python",
   "name": "python",
   "nbconvert_exporter": "python",
   "pygments_lexer": "ipython3",
   "version": "3.13.5"
  }
 },
 "nbformat": 4,
 "nbformat_minor": 5
}
