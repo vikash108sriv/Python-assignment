{
 "cells": [
  {
   "cell_type": "markdown",
   "id": "055cb133-f701-4f41-a93c-dc9b2f57d3ac",
   "metadata": {},
   "source": [
    "Question 1: Write a Python program to print all the numbers from 1 to 10 using a for loop."
   ]
  },
  {
   "cell_type": "code",
   "execution_count": 2,
   "id": "4a3b7db3-3ec5-4c18-88ad-ce3ccd2f5566",
   "metadata": {},
   "outputs": [
    {
     "name": "stdin",
     "output_type": "stream",
     "text": [
      "Enter a number:  10\n"
     ]
    },
    {
     "name": "stdout",
     "output_type": "stream",
     "text": [
      "1\n",
      "2\n",
      "3\n",
      "4\n",
      "5\n",
      "6\n",
      "7\n",
      "8\n",
      "9\n",
      "10\n"
     ]
    }
   ],
   "source": [
    "n = int(input(\"Enter a number: \"))\n",
    "\n",
    "for i in range(1, n+1):\n",
    "    print(i)"
   ]
  },
  {
   "cell_type": "markdown",
   "id": "bcdc9661-135a-46a6-845c-ee177910d2e0",
   "metadata": {},
   "source": [
    "Question 2: Write a Python program to find the sum of all numbers from 1 to 100 using a for\n",
    "loop."
   ]
  },
  {
   "cell_type": "code",
   "execution_count": 11,
   "id": "ec37f0ea-e87d-4cb6-b32e-834f8ab86f6f",
   "metadata": {},
   "outputs": [
    {
     "name": "stdin",
     "output_type": "stream",
     "text": [
      "Enter a number : 5\n"
     ]
    },
    {
     "name": "stdout",
     "output_type": "stream",
     "text": [
      "The sum of numbers from 1 to 5 is: 15\n"
     ]
    }
   ],
   "source": [
    "num=int(input(\"Enter a number :\"))\n",
    "total_sum=0\n",
    "\n",
    "for i in range(1,num+1):\n",
    "    total_sum+=i\n",
    "print(\"The sum of numbers from 1 to\",num,\"is:\", total_sum)    "
   ]
  },
  {
   "cell_type": "markdown",
   "id": "0f4c181d-a009-4d8b-8acc-3cdcee008b34",
   "metadata": {},
   "source": [
    "Question 3: Write a Python program to print the multiplication table of a given number using a\n",
    "for loop."
   ]
  },
  {
   "cell_type": "code",
   "execution_count": 23,
   "id": "192f037f-7e3c-4ce0-a278-27b615b388d1",
   "metadata": {},
   "outputs": [
    {
     "name": "stdin",
     "output_type": "stream",
     "text": [
      "Enter the number : 8\n"
     ]
    },
    {
     "name": "stdout",
     "output_type": "stream",
     "text": [
      "multipliction table of number 8 is:\n",
      "8 X 1=8\n",
      "8 X 2=16\n",
      "8 X 3=24\n",
      "8 X 4=32\n",
      "8 X 5=40\n",
      "8 X 6=48\n",
      "8 X 7=56\n",
      "8 X 8=64\n",
      "8 X 9=72\n",
      "8 X 10=80\n"
     ]
    }
   ],
   "source": [
    "n=int(input(\"Enter the number :\"))\n",
    "print(f\"multipliction table of number {n} is:\")\n",
    "\n",
    "for i in range (1,11):\n",
    "    print(f\"{n} X {i}={n*i}\")"
   ]
  },
  {
   "cell_type": "markdown",
   "id": "3a8963b3-c8b7-40a3-aa22-a450e4e535cf",
   "metadata": {},
   "source": [
    "question 4 Write a Python program to count the number of even and odd numbers from a\n",
    "series of numbers using a for loop.\n",
    "Hint: Find even and odd from this list: [1, 2, 3, 4, 5, 6, 7, 8, 9, 10]"
   ]
  },
  {
   "cell_type": "code",
   "execution_count": 4,
   "id": "92edcbeb-dbf0-4af6-9080-324f440e72af",
   "metadata": {},
   "outputs": [
    {
     "name": "stdout",
     "output_type": "stream",
     "text": [
      "Number of even numbers:5\n",
      "Number of odd numbers:6\n"
     ]
    }
   ],
   "source": [
    "List1=[1,2,3,4,5,6,7,8,9,10,11]\n",
    "even_count=0\n",
    "odd_count=0\n",
    "for num in List1:\n",
    "    if num % 2==0:\n",
    "        even_count+=1\n",
    "    else:\n",
    "        odd_count+=1\n",
    "print(f\"Number of even numbers:{even_count}\")\n",
    "print(f\"Number of odd numbers:{odd_count}\")"
   ]
  },
  {
   "cell_type": "markdown",
   "id": "fbdff221-a828-4269-833a-4dac436ef307",
   "metadata": {},
   "source": [
    "Question 5: Write a Python program to find the factorial of a number using a for loop."
   ]
  },
  {
   "cell_type": "code",
   "execution_count": 11,
   "id": "4588575f-994d-4dc4-b615-3a60655ba19c",
   "metadata": {},
   "outputs": [
    {
     "name": "stdin",
     "output_type": "stream",
     "text": [
      "Enter a number: 5\n"
     ]
    },
    {
     "name": "stdout",
     "output_type": "stream",
     "text": [
      "The factorial of number 5 is 120\n"
     ]
    }
   ],
   "source": [
    "n=int(input(\"Enter a number:\"))\n",
    "fact=1\n",
    "for i in range(1,n+1):\n",
    "    fact*=i\n",
    "print(\"The factorial of number\", n ,\"is\",fact)   \n",
    "    \n",
    "\n",
    "\n"
   ]
  },
  {
   "cell_type": "markdown",
   "id": "b7975db5-1fa1-4a2f-9866-dc7b3bddfee4",
   "metadata": {},
   "source": [
    "Question 6: Write a Python program to print the Fibonacci sequence up to a specified number\n",
    "using a for loop."
   ]
  },
  {
   "cell_type": "code",
   "execution_count": 16,
   "id": "6e34e837-9363-40fb-a743-4a057ac38186",
   "metadata": {},
   "outputs": [
    {
     "name": "stdin",
     "output_type": "stream",
     "text": [
      "Enter the number of terms: 10\n"
     ]
    },
    {
     "name": "stdout",
     "output_type": "stream",
     "text": [
      "fibonacci sequence\n",
      "0 1 1 2 3 5 8 13 21 34 "
     ]
    }
   ],
   "source": [
    "n=int(input(\"Enter the number of terms:\"))\n",
    "a,b=0,1\n",
    "print(\"fibonacci sequence\")\n",
    "for i in range(n):\n",
    "    \n",
    "    print (a,end=\" \")\n",
    "    a,b=b,a+b\n"
   ]
  },
  {
   "cell_type": "markdown",
   "id": "849ad786-7660-4c63-bafa-f5a20b5a53d9",
   "metadata": {},
   "source": [
    "Question 7: Write a Python program to check if a given number is prime or not using a for loop."
   ]
  },
  {
   "cell_type": "code",
   "execution_count": 18,
   "id": "fc3d86e8-4265-4fe4-ad2e-c35c5254ed57",
   "metadata": {},
   "outputs": [
    {
     "name": "stdin",
     "output_type": "stream",
     "text": [
      "Enter the number: 7\n"
     ]
    },
    {
     "name": "stdout",
     "output_type": "stream",
     "text": [
      "prime number\n"
     ]
    }
   ],
   "source": [
    "num=int(input(\"Enter the number:\"))\n",
    "for i in range (2,num):\n",
    "    if num%i ==0:\n",
    "        print(\"not prime number\")\n",
    "        break\n",
    "    else:\n",
    "        print(\"prime number\")\n",
    "        break"
   ]
  },
  {
   "cell_type": "markdown",
   "id": "ae3f800b-474c-416e-b8af-6caf7e4cba22",
   "metadata": {},
   "source": [
    "Question 8: Write a Python program to find the largest element in a list using a for loop."
   ]
  },
  {
   "cell_type": "code",
   "execution_count": 20,
   "id": "8a895ae3-bf14-471c-9342-63f11926108c",
   "metadata": {},
   "outputs": [
    {
     "name": "stdout",
     "output_type": "stream",
     "text": [
      "The largest element in the list is: 99\n"
     ]
    }
   ],
   "source": [
    "# Sample list\n",
    "numbers = [23, 45, 67, 12, 89, 34,99]\n",
    "\n",
    "# Assume the first element is the largest\n",
    "largest = numbers[0]\n",
    "\n",
    "# Iterate through the list\n",
    "for num in numbers:\n",
    "    if num > largest:\n",
    "        largest = num\n",
    "\n",
    "# Print the largest number\n",
    "print(\"The largest element in the list is:\", largest)\n"
   ]
  },
  {
   "cell_type": "markdown",
   "id": "11c5383a-8ca5-4335-b09e-5393f3be863f",
   "metadata": {},
   "source": [
    "Question 9: Write a Python program to reverse a given string using a for loop."
   ]
  },
  {
   "cell_type": "code",
   "execution_count": 21,
   "id": "6b4c3b25-af83-4a31-a2b1-6df58ea18208",
   "metadata": {},
   "outputs": [
    {
     "name": "stdout",
     "output_type": "stream",
     "text": [
      "Reversed string is: !dlroW ,olleH\n"
     ]
    }
   ],
   "source": [
    "# Input string\n",
    "input_string = \"Hello, World!\"\n",
    "\n",
    "# Initialize an empty string for the reversed result\n",
    "reversed_string = \"\"\n",
    "\n",
    "# Loop through the original string in reverse order\n",
    "for char in input_string:\n",
    "    reversed_string = char + reversed_string\n",
    "\n",
    "# Print the reversed string\n",
    "print(\"Reversed string is:\", reversed_string)\n"
   ]
  },
  {
   "cell_type": "markdown",
   "id": "8da1b60d-fe52-4290-b878-8699bbeef0cb",
   "metadata": {},
   "source": [
    "Question 10: Write a Python program to find the common elements between two lists using a\n",
    "for loop.\n",
    "List1 = [1,2,3]\n",
    "List2 = [4,5,1] # common element is 1"
   ]
  }
 ],
 "metadata": {
  "kernelspec": {
   "display_name": "Python 3 (ipykernel)",
   "language": "python",
   "name": "python3"
  },
  "language_info": {
   "codemirror_mode": {
    "name": "ipython",
    "version": 3
   },
   "file_extension": ".py",
   "mimetype": "text/x-python",
   "name": "python",
   "nbconvert_exporter": "python",
   "pygments_lexer": "ipython3",
   "version": "3.13.5"
  }
 },
 "nbformat": 4,
 "nbformat_minor": 5
}
