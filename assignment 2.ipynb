{
 "cells": [
  {
   "cell_type": "markdown",
   "id": "ba93b87f-2f4b-4c43-92a8-29aa276bb12d",
   "metadata": {},
   "source": [
    "1) str.capitalize() Capitalizes the first character."
   ]
  },
  {
   "cell_type": "code",
   "execution_count": 12,
   "id": "74932531-3e83-4c73-8a27-0943d501cc61",
   "metadata": {},
   "outputs": [
    {
     "data": {
      "text/plain": [
       "'Python'"
      ]
     },
     "execution_count": 12,
     "metadata": {},
     "output_type": "execute_result"
    }
   ],
   "source": [
    "str=\"python\"\n",
    "str.capitalize()"
   ]
  },
  {
   "cell_type": "code",
   "execution_count": 9,
   "id": "746d699a-71f5-408a-9070-0a152aec81d4",
   "metadata": {},
   "outputs": [
    {
     "name": "stdout",
     "output_type": "stream",
     "text": [
      "java\n"
     ]
    }
   ],
   "source": [
    "string='java'\n",
    "string.capitalize\n",
    "print(string)"
   ]
  },
  {
   "cell_type": "markdown",
   "id": "1c52669a-3681-4abc-a336-d97e7a995c33",
   "metadata": {},
   "source": [
    "2)str.casefold()\n",
    "Converts to lowercase (more aggressive than lower())."
   ]
  },
  {
   "cell_type": "code",
   "execution_count": 22,
   "id": "b051b922-d0be-42be-9797-469cf5d66e2d",
   "metadata": {},
   "outputs": [
    {
     "name": "stdout",
     "output_type": "stream",
     "text": [
      "pythonjava\n"
     ]
    },
    {
     "data": {
      "text/plain": [
       "'pythonjava'"
      ]
     },
     "execution_count": 22,
     "metadata": {},
     "output_type": "execute_result"
    }
   ],
   "source": [
    "str=\"PyThOnjava\" \n",
    "print(str.casefold())\n",
    "str.casefold()"
   ]
  },
  {
   "cell_type": "markdown",
   "id": "43c3d1b3-7101-4351-9085-0c6e1ed55e2e",
   "metadata": {},
   "source": [
    "3)str.center(width[, fillchar]) \n",
    "Centers the string within the specified width."
   ]
  },
  {
   "cell_type": "code",
   "execution_count": 39,
   "id": "38234721-6416-4884-9aea-106ad058f5d1",
   "metadata": {},
   "outputs": [
    {
     "name": "stdout",
     "output_type": "stream",
     "text": [
      "           monkey is a wild animal           \n"
     ]
    }
   ],
   "source": [
    "str=\"monkey is a wild animal\"\n",
    "print(str.center(45))"
   ]
  },
  {
   "cell_type": "code",
   "execution_count": 38,
   "id": "c429d6aa-a77a-45e2-80a7-9a4c251b39e7",
   "metadata": {},
   "outputs": [
    {
     "name": "stdout",
     "output_type": "stream",
     "text": [
      "                      Hello                       \n"
     ]
    }
   ],
   "source": [
    "text = \"Hello\"\n",
    "result = text.center(50)\n",
    "print(result)  \n"
   ]
  },
  {
   "cell_type": "code",
   "execution_count": 50,
   "id": "84fded43-d593-4512-a928-63b1df59f93d",
   "metadata": {},
   "outputs": [
    {
     "name": "stdout",
     "output_type": "stream",
     "text": [
      "@@@Python@@\n"
     ]
    }
   ],
   "source": [
    "text = \"Python\"\n",
    "result = text.center(11, '@')\n",
    "print(result)\n"
   ]
  },
  {
   "cell_type": "markdown",
   "id": "ec427206-5b99-4214-9752-e01c010a611e",
   "metadata": {},
   "source": [
    "4) str.count(sub[, start[, end]])\n",
    "   Returns the number of non-overlapping occurrences of a substring."
   ]
  },
  {
   "cell_type": "code",
   "execution_count": 55,
   "id": "a59fc3c2-d5f3-4697-b008-633f88927e04",
   "metadata": {},
   "outputs": [
    {
     "name": "stdout",
     "output_type": "stream",
     "text": [
      "2\n"
     ]
    }
   ],
   "source": [
    "value=\"mango man banana nana\"\n",
    "print(value.count(\"man\"))"
   ]
  },
  {
   "cell_type": "code",
   "execution_count": 56,
   "id": "eb2ad770-3beb-4881-935a-95acec3765d4",
   "metadata": {},
   "outputs": [
    {
     "name": "stdout",
     "output_type": "stream",
     "text": [
      "2\n"
     ]
    }
   ],
   "source": [
    "text = \"hello world, hello Python\"\n",
    "count = text.count(\"hello\")\n",
    "print(count)  # Output: 2\n"
   ]
  },
  {
   "cell_type": "code",
   "execution_count": 60,
   "id": "2e9ffc89-2bec-4f5c-9402-40593d32e49d",
   "metadata": {},
   "outputs": [
    {
     "name": "stdout",
     "output_type": "stream",
     "text": [
      "1\n"
     ]
    }
   ],
   "source": [
    "text = \"banana banana banana\"\n",
    "count = text.count(\"banana\",0, 10)\n",
    "print(count)  # Output: 1\n"
   ]
  },
  {
   "cell_type": "markdown",
   "id": "0b0a0b61-a08a-42a9-9c92-464ce23e09a9",
   "metadata": {},
   "source": [
    "5)str.encode(encoding=\"utf-8\", errors=\"strict\")\n",
    "Returns encoded version of the string."
   ]
  },
  {
   "cell_type": "code",
   "execution_count": 66,
   "id": "e5c21441-6881-4394-a5c4-98f2be65a349",
   "metadata": {},
   "outputs": [
    {
     "name": "stdout",
     "output_type": "stream",
     "text": [
      "b'Hello, World!'\n"
     ]
    }
   ],
   "source": [
    "text = \"Hello, World!\"\n",
    "encoded_text = text.encode()  # Default UTF-8 encoding\n",
    "print(encoded_text)  # Output: b'Hello, World!'\n",
    "                                                                   "
   ]
  },
  {
   "cell_type": "code",
   "execution_count": 67,
   "id": "1328e932",
   "metadata": {},
   "outputs": [
    {
     "name": "stdout",
     "output_type": "stream",
     "text": [
      "b'\\xe0\\xa4\\xa8\\xe0\\xa4\\xae\\xe0\\xa4\\xb8\\xe0\\xa5\\x8d\\xe0\\xa4\\xa4\\xe0\\xa5\\x87'\n"
     ]
    }
   ],
   "source": [
    "text = \"नमस्ते\"\n",
    "encoded_text = text.encode('utf-8')\n",
    "print(encoded_text)  # Output: b'\\xe0\\xa4\\xa8\\xe0\\xa4\\xae\\xe0\\xa4\\xb8\\xe0\\xa5\\x8d\\xe0\\xa4\\xa4\\xe0\\xa5\\x87'\n",
    "                                                                          "
   ]
  },
  {
   "cell_type": "code",
   "execution_count": 73,
   "id": "b127bcfd-7a62-4c73-8d1a-523433d018a0",
   "metadata": {},
   "outputs": [
    {
     "name": "stdout",
     "output_type": "stream",
     "text": [
      "b'Hello, ??????!'\n"
     ]
    }
   ],
   "source": [
    "text = \"Hello, नमस्ते!\"\n",
    "encoded_text = text.encode('ascii', errors='replace')\n",
    "print(encoded_text)  # Output: b'Hello, ??????!'\n"
   ]
  },
  {
   "cell_type": "code",
   "execution_count": 71,
   "id": "de24000c-091a-45df-9a01-5e965e78a48e",
   "metadata": {},
   "outputs": [
    {
     "name": "stdout",
     "output_type": "stream",
     "text": [
      "b'My name is St\\\\xe5le'\n",
      "b'My name is Stle'\n",
      "b'My name is St\\\\N{LATIN SMALL LETTER A WITH RING ABOVE}le'\n",
      "b'My name is St?le'\n",
      "b'My name is St&#229;le'\n"
     ]
    }
   ],
   "source": [
    "txt = \"My name is Ståle\"\n",
    "\n",
    "print(txt.encode(encoding=\"ascii\",errors=\"backslashreplace\"))\n",
    "print(txt.encode(encoding=\"ascii\",errors=\"ignore\"))\n",
    "print(txt.encode(encoding=\"ascii\",errors=\"namereplace\"))\n",
    "print(txt.encode(encoding=\"ascii\",errors=\"replace\"))\n",
    "print(txt.encode(encoding=\"ascii\",errors=\"xmlcharrefreplace\"))"
   ]
  },
  {
   "cell_type": "markdown",
   "id": "a7949223-b8a3-464b-a040-e3904d42617e",
   "metadata": {},
   "source": [
    "6)str.endswith(suffix[, start[, end]])\n",
    "Returns True if the string ends with the specified suffix."
   ]
  },
  {
   "cell_type": "code",
   "execution_count": 74,
   "id": "eb5431af-007d-4dca-9862-cec973c59027",
   "metadata": {},
   "outputs": [
    {
     "name": "stdout",
     "output_type": "stream",
     "text": [
      "True\n",
      "False\n"
     ]
    }
   ],
   "source": [
    "text = \"hello world\"\n",
    "print(text.endswith(\"world\"))  # Output: True\n",
    "print(text.endswith(\"hello\"))  # Output: False\n"
   ]
  },
  {
   "cell_type": "code",
   "execution_count": 80,
   "id": "8eb3c5d8-e909-4149-958a-0dac2cb9bd29",
   "metadata": {},
   "outputs": [
    {
     "name": "stdout",
     "output_type": "stream",
     "text": [
      "True\n",
      "False\n"
     ]
    }
   ],
   "source": [
    "text = \"hello world\"\n",
    "print(text.endswith(\"world\", 0, 11))  # Output: True\n",
    "print(text.endswith(\"hello\", 5,11))   # Output: false\n"
   ]
  },
  {
   "cell_type": "markdown",
   "id": "ee00549a-1a75-45b0-bcf7-e04c6e1d572e",
   "metadata": {},
   "source": [
    "7)str.expandtabs(tabsize=8)\n",
    "Replaces tabs with spaces."
   ]
  },
  {
   "cell_type": "code",
   "execution_count": 84,
   "id": "054d3511-2f6e-44d3-9592-60fc4f2ae939",
   "metadata": {},
   "outputs": [
    {
     "name": "stdout",
     "output_type": "stream",
     "text": [
      "Hello   World\n"
     ]
    }
   ],
   "source": [
    "text = \"Hello\\tWorld\"\n",
    "result = text.expandtabs(4)\n",
    "print(result)  # Output: \"Hello   World\"\n"
   ]
  },
  {
   "cell_type": "code",
   "execution_count": 88,
   "id": "facb13ef-3dbb-4fc9-8bbb-8e2b1adb963f",
   "metadata": {},
   "outputs": [
    {
     "name": "stdout",
     "output_type": "stream",
     "text": [
      "A B C\n"
     ]
    }
   ],
   "source": [
    "text = \"A\\tB\\tC\"\n",
    "result = text.expandtabs(2)\n",
    "print(result)  # Output: \"A B C\"\n"
   ]
  },
  {
   "cell_type": "code",
   "execution_count": 94,
   "id": "49c4f166-4485-4cce-8270-75638315b6fa",
   "metadata": {},
   "outputs": [
    {
     "name": "stdout",
     "output_type": "stream",
     "text": [
      "Hello World\n"
     ]
    }
   ],
   "source": [
    "text = \"Hello\\tWorld\"\n",
    "result = text.expandtabs(1)\n",
    "print(result)  # Output: \"Hello   World\"\n"
   ]
  },
  {
   "cell_type": "markdown",
   "id": "2ad9a0a3-cfcb-4ede-9c35-050dd3bb4da3",
   "metadata": {},
   "source": [
    "8)str.find(sub[, start[, end]])\n",
    "Returns the lowest index of the substring; returns -1 if not found."
   ]
  },
  {
   "cell_type": "code",
   "execution_count": 100,
   "id": "72c5db03-e1c4-4f5e-8348-4042862855d6",
   "metadata": {},
   "outputs": [
    {
     "name": "stdout",
     "output_type": "stream",
     "text": [
      "11\n"
     ]
    }
   ],
   "source": [
    "string=(\"peacock is our national bird\")\n",
    "print(string.find(\"our\"))"
   ]
  },
  {
   "cell_type": "code",
   "execution_count": 101,
   "id": "75670c83-95c6-4ac0-900f-7e230360c658",
   "metadata": {},
   "outputs": [
    {
     "name": "stdout",
     "output_type": "stream",
     "text": [
      "14\n"
     ]
    }
   ],
   "source": [
    "text = \"Hello, world! Hello again!\"\n",
    "result = text.find(\"Hello\", 8)  # Start searching from index 8\n",
    "print(result)  # Output: 14\n"
   ]
  },
  {
   "cell_type": "markdown",
   "id": "6722e5de-b81b-4ab5-a920-57c1b9b48af7",
   "metadata": {},
   "source": [
    "9)str.format(*args, **kwargs)\n",
    "Formats string using the specified arguments."
   ]
  },
  {
   "cell_type": "code",
   "execution_count": 102,
   "id": "f8ad4f1f-5e50-4633-8000-cf117c569ebc",
   "metadata": {},
   "outputs": [
    {
     "name": "stdout",
     "output_type": "stream",
     "text": [
      "My name is Alice and I am 25 years old.\n"
     ]
    }
   ],
   "source": [
    "name = \"Alice\"\n",
    "age = 25\n",
    "formatted_string = \"My name is {} and I am {} years old.\".format(name, age)\n",
    "print(formatted_string)\n",
    "# Output: My name is Alice and I am 25 years old.\n"
   ]
  },
  {
   "cell_type": "code",
   "execution_count": 103,
   "id": "2a01ad4f-69de-4d33-9287-ee9b523ee213",
   "metadata": {},
   "outputs": [
    {
     "name": "stdout",
     "output_type": "stream",
     "text": [
      "I have 5 apples and 3 oranges.\n",
      "My favorite fruit is mango.\n"
     ]
    }
   ],
   "source": [
    "# Positional\n",
    "formatted_string = \"I have {} apples and {} oranges.\".format(5, 3)\n",
    "print(formatted_string)\n",
    "# Output: I have 5 apples and 3 oranges.\n",
    "\n",
    "# Keyword\n",
    "formatted_string = \"My favorite fruit is {fruit}.\".format(fruit=\"mango\")\n",
    "print(formatted_string)\n",
    "# Output: My favorite fruit is mango.\n"
   ]
  },
  {
   "cell_type": "markdown",
   "id": "84c3fa3b-178e-47c3-be9a-d518d2011d1d",
   "metadata": {},
   "source": [
    "10)str.format_map(mapping)\n",
    "Formats string using a mapping."
   ]
  },
  {
   "cell_type": "code",
   "execution_count": 110,
   "id": "fa4e876e-37fb-4d2b-b1b2-a77b08f51c7e",
   "metadata": {},
   "outputs": [
    {
     "name": "stdout",
     "output_type": "stream",
     "text": [
      "My name is Alice and I am 25 years old.\n"
     ]
    }
   ],
   "source": [
    "data = {'name': 'Alice', 'age': 25}\n",
    "result = \"My name is {name} and I am {age} years old.\".format_map(data)\n",
    "print(result)\n",
    "# Output: My name is Alice and I am 25 years old.\n"
   ]
  },
  {
   "cell_type": "markdown",
   "id": "d66d5597-5bdf-4c1e-8c10-17789ad39989",
   "metadata": {},
   "source": [
    "11)str.index(sub[, start[, end]])\n",
    "Like find() but raises ValueError if not found."
   ]
  },
  {
   "cell_type": "code",
   "execution_count": 119,
   "id": "35599dd6-1dee-4a8a-9047-8804facb8c7b",
   "metadata": {},
   "outputs": [
    {
     "name": "stdout",
     "output_type": "stream",
     "text": [
      "7\n"
     ]
    }
   ],
   "source": [
    "string=\"monkey is donkey\"\n",
    "print(string.index(\"is\",3,20))"
   ]
  },
  {
   "cell_type": "code",
   "execution_count": 121,
   "id": "830b14d9-6cdf-4560-a0e5-1609fa3b933c",
   "metadata": {},
   "outputs": [
    {
     "name": "stdout",
     "output_type": "stream",
     "text": [
      "13\n"
     ]
    }
   ],
   "source": [
    "string=\"python is an easy language\"\n",
    "print(string.index(\"easy\"))"
   ]
  },
  {
   "cell_type": "markdown",
   "id": "f4493934-9ad3-47df-9cda-5c51d62bceb6",
   "metadata": {},
   "source": [
    "12)str.isalnum()\n",
    "Returns True if all characters are alphanumeric."
   ]
  },
  {
   "cell_type": "code",
   "execution_count": 122,
   "id": "197c680e-016e-4f6c-88a0-4ea0b0f41c3a",
   "metadata": {},
   "outputs": [
    {
     "name": "stdout",
     "output_type": "stream",
     "text": [
      "True\n",
      "False\n",
      "False\n",
      "False\n",
      "True\n"
     ]
    }
   ],
   "source": [
    "# Example 1: Alphanumeric string\n",
    "s1 = \"Python123\"\n",
    "print(s1.isalnum())  # Output: True\n",
    "\n",
    "# Example 2: String with spaces\n",
    "s2 = \"Python 123\"\n",
    "print(s2.isalnum())  # Output: False (contains a space)\n",
    "\n",
    "# Example 3: String with special characters\n",
    "s3 = \"Python@123\"\n",
    "print(s3.isalnum())  # Output: False (contains '@')\n",
    "\n",
    "# Example 4: Empty string\n",
    "s4 = \"\"\n",
    "print(s4.isalnum())  # Output: False (empty string)\n",
    "\n",
    "# Example 5: Numeric string\n",
    "s5 = \"12345\"\n",
    "print(s5.isalnum())  # Output: True\n"
   ]
  },
  {
   "cell_type": "code",
   "execution_count": 126,
   "id": "677142ec-6bfb-4a9d-9247-2f361d95d4db",
   "metadata": {},
   "outputs": [
    {
     "name": "stdout",
     "output_type": "stream",
     "text": [
      "True\n"
     ]
    },
    {
     "data": {
      "text/plain": [
       "str"
      ]
     },
     "execution_count": 126,
     "metadata": {},
     "output_type": "execute_result"
    }
   ],
   "source": [
    "v1=\"12345\"\n",
    "print(v1.isalnum())\n",
    "type(v1)"
   ]
  },
  {
   "cell_type": "markdown",
   "id": "d02082f4-32db-456f-a772-fff8263e92b4",
   "metadata": {},
   "source": [
    "13)str.isalpha()\n",
    "Returns True if all characters are alphabetic."
   ]
  },
  {
   "cell_type": "code",
   "execution_count": 128,
   "id": "061034a6-f7a7-4eaa-8d10-85bf309a6399",
   "metadata": {},
   "outputs": [
    {
     "name": "stdout",
     "output_type": "stream",
     "text": [
      "True\n",
      "False\n",
      "False\n",
      "False\n",
      "False\n"
     ]
    }
   ],
   "source": [
    "# Example 1: All alphabetic characters\n",
    "print(\"Hello\".isalpha())  # Output: True\n",
    "\n",
    "# Example 2: Contains numbers\n",
    "print(\"Hello123\".isalpha())  # Output: False\n",
    "\n",
    "# Example 3: Contains spaces\n",
    "print(\"Hello World\".isalpha())  # Output: False\n",
    "\n",
    "# Example 4: Empty string\n",
    "print(\"\".isalpha())  # Output: False\n",
    "\n",
    "# Example 5: Non-English alphabetic characters\n",
    "print(\"नमस्त\".isalpha())  # Output: False\n"
   ]
  },
  {
   "cell_type": "markdown",
   "id": "bfa61982-a4eb-4de0-a770-84f65be666f0",
   "metadata": {},
   "source": [
    "14)str.isascii()\n",
    "Returns True if all characters are ASCII."
   ]
  },
  {
   "cell_type": "code",
   "execution_count": 129,
   "id": "2dc12d0f-72b7-4d0b-80eb-e57973099f2a",
   "metadata": {},
   "outputs": [
    {
     "name": "stdout",
     "output_type": "stream",
     "text": [
      "True\n"
     ]
    }
   ],
   "source": [
    "# Example 1: All ASCII characters\n",
    "text1 = \"Hello, World!\"\n",
    "print(text1.isascii())  # Output: True\n"
   ]
  },
  {
   "cell_type": "code",
   "execution_count": 130,
   "id": "413df05a-e9f6-4e2d-a2d3-104472455ddb",
   "metadata": {},
   "outputs": [
    {
     "name": "stdout",
     "output_type": "stream",
     "text": [
      "False\n",
      "True\n"
     ]
    }
   ],
   "source": [
    "# Example 2: Contains non-ASCII characters\n",
    "text2 = \"नमस्ते\"  # Hindi text\n",
    "print(text2.isascii())  # Output: False\n",
    "\n",
    "# Example 3: Empty string\n",
    "text3 = \"\"\n",
    "print(text3.isascii())  # Output: True (empty string is considered ASCII)\n",
    "\n",
    "\n"
   ]
  },
  {
   "cell_type": "markdown",
   "id": "96ff87e3-6f28-44a7-a0a7-3e84b0250c10",
   "metadata": {},
   "source": [
    "15)str.isdecimal()\n",
    "Returns True if all characters are decimal characters."
   ]
  },
  {
   "cell_type": "code",
   "execution_count": 136,
   "id": "cc239af5-2642-43db-92a7-4206ac98ad2c",
   "metadata": {},
   "outputs": [
    {
     "name": "stdout",
     "output_type": "stream",
     "text": [
      "True\n"
     ]
    }
   ],
   "source": [
    "# Example 1: All decimal characters\n",
    "print(\"12345\".isdecimal())  # Output: True\n"
   ]
  },
  {
   "cell_type": "code",
   "execution_count": 138,
   "id": "c5ede5f5-8589-45c7-b2fe-a5c2c05abd77",
   "metadata": {},
   "outputs": [
    {
     "name": "stdout",
     "output_type": "stream",
     "text": [
      "True\n",
      "False\n",
      "False\n"
     ]
    }
   ],
   "source": [
    "my_string1 = \"123456\"\n",
    "my_string2 = \"12.345\"\n",
    "my_string3 = \"hello\"\n",
    "\n",
    "print(my_string1.isdecimal())  # Output: True\n",
    "print(my_string2.isdecimal())  # Output: False (contains a dot)\n",
    "print(my_string3.isdecimal())  # Output: False (contains alphabetic characters)\n"
   ]
  },
  {
   "cell_type": "markdown",
   "id": "a4abb882-7491-4eeb-bc31-ac6ced90128b",
   "metadata": {},
   "source": [
    "16)str.isdigit()\n",
    "Returns True if all characters are digits."
   ]
  },
  {
   "cell_type": "code",
   "execution_count": 139,
   "id": "4c333db4-a29f-448e-b0bb-757a3f190e52",
   "metadata": {},
   "outputs": [
    {
     "name": "stdout",
     "output_type": "stream",
     "text": [
      "True\n",
      "False\n",
      "False\n"
     ]
    }
   ],
   "source": [
    "my_string1 = \"12345\"\n",
    "my_string2 = \"12.345\"\n",
    "my_string3 = \"hello\"\n",
    "\n",
    "print(my_string1.isdigit())  # Output: True\n",
    "print(my_string2.isdigit())  # Output: False (contains a dot)\n",
    "print(my_string3.isdigit())  # Output: False (contains alphabetic characters)"
   ]
  },
  {
   "cell_type": "markdown",
   "id": "d7e104b2-9934-42b4-8294-a0a1e9137947",
   "metadata": {},
   "source": [
    "17)str.isidentifier()\n",
    "Returns True if string is a valid identifier."
   ]
  },
  {
   "cell_type": "code",
   "execution_count": 140,
   "id": "71bc5d1f-85da-4804-a2b8-1ccc433deeb5",
   "metadata": {},
   "outputs": [
    {
     "name": "stdout",
     "output_type": "stream",
     "text": [
      "True\n",
      "True\n",
      "True\n",
      "False\n",
      "False\n",
      "True\n",
      "False\n"
     ]
    }
   ],
   "source": [
    "# Valid identifiers\n",
    "print(\"variable_name\".isidentifier())  # Output: True\n",
    "print(\"_privateVar\".isidentifier())    # Output: True\n",
    "print(\"Var123\".isidentifier())         # Output: True\n",
    "\n",
    "# Invalid identifiers\n",
    "print(\"123Var\".isidentifier())         # Output: False (starts with a digit)\n",
    "print(\"var-name\".isidentifier())       # Output: False (contains a hyphen)\n",
    "print(\"if\".isidentifier())             # Output: True (but it's a keyword, so not usable as an identifier)\n",
    "print(\" \".isidentifier())              # Output: False (contains a space)\n"
   ]
  },
  {
   "cell_type": "markdown",
   "id": "0a12a08e-b20d-4310-b29c-75d940193db0",
   "metadata": {},
   "source": [
    "18)str.islower()\n",
    "Returns True if all characters are lowercase."
   ]
  },
  {
   "cell_type": "code",
   "execution_count": 141,
   "id": "5d9f40f3-6647-4777-961e-230d67ee285a",
   "metadata": {},
   "outputs": [
    {
     "name": "stdout",
     "output_type": "stream",
     "text": [
      "True\n",
      "False\n",
      "True\n",
      "False\n",
      "False\n"
     ]
    }
   ],
   "source": [
    "# Example 1: All lowercase\n",
    "print(\"hello\".islower())  # Output: True\n",
    "\n",
    "# Example 2: Mixed case\n",
    "print(\"Hello\".islower())  # Output: False\n",
    "\n",
    "# Example 3: Non-alphabetic characters\n",
    "print(\"hello123\".islower())  # Output: True\n",
    "\n",
    "# Example 4: No alphabetic characters\n",
    "print(\"123!\".islower())  # Output: False\n",
    "\n",
    "# Example 5: Empty string\n",
    "print(\"\".islower())  # Output: False\n"
   ]
  },
  {
   "cell_type": "markdown",
   "id": "663365df-1e8a-4d48-8a2d-18885a500416",
   "metadata": {},
   "source": [
    "19)str.isnumeric()\n",
    "Returns True if all characters are numeric."
   ]
  },
  {
   "cell_type": "code",
   "execution_count": 142,
   "id": "ce81205a-23cf-4e92-a6b1-ddc1efb947f4",
   "metadata": {},
   "outputs": [
    {
     "name": "stdout",
     "output_type": "stream",
     "text": [
      "True\n",
      "False\n",
      "True\n",
      "False\n",
      "False\n"
     ]
    }
   ],
   "source": [
    "# Example 1: Numeric strings\n",
    "print(\"123\".isnumeric())  # Output: True\n",
    "\n",
    "# Example 2: Non-numeric strings\n",
    "print(\"123abc\".isnumeric())  # Output: False\n",
    "\n",
    "# Example 3: Unicode numeric characters\n",
    "print(\"²\".isnumeric())  # Output: True\n",
    "\n",
    "# Example 4: Decimal points or negative signs\n",
    "print(\"-123\".isnumeric())  # Output: False\n",
    "print(\"3.14\".isnumeric())  # Output: False\n"
   ]
  },
  {
   "cell_type": "markdown",
   "id": "27679aa3-bb47-4c07-b74b-e807d1985150",
   "metadata": {},
   "source": [
    "20)str.isprintable()\n",
    "Returns True if all characters are printable."
   ]
  },
  {
   "cell_type": "code",
   "execution_count": 143,
   "id": "62177205-5703-4f19-b2e4-489b2e45653b",
   "metadata": {},
   "outputs": [
    {
     "name": "stdout",
     "output_type": "stream",
     "text": [
      "True\n",
      "False\n",
      "True\n",
      "True\n"
     ]
    }
   ],
   "source": [
    "# Example 1: Printable string\n",
    "text = \"Hello, World!\"\n",
    "print(text.isprintable())  # Output: True\n",
    "\n",
    "# Example 2: String with non-printable characters\n",
    "text = \"Hello\\nWorld\"\n",
    "print(text.isprintable())  # Output: False\n",
    "\n",
    "# Example 3: Empty string\n",
    "text = \"\"\n",
    "print(text.isprintable())  # Output: True\n",
    "\n",
    "# Example 4: String with special characters\n",
    "text = \"123@#$%^&*()\"\n",
    "print(text.isprintable())  # Output: True\n"
   ]
  },
  {
   "cell_type": "markdown",
   "id": "124cb1c0-abeb-4ad5-9923-f509ba29ed37",
   "metadata": {},
   "source": [
    "21)str.isspace()\n",
    "Returns True if all characters are whitespace."
   ]
  },
  {
   "cell_type": "code",
   "execution_count": 144,
   "id": "2539571a-2588-48cd-966f-4a225b86f5a5",
   "metadata": {},
   "outputs": [
    {
     "name": "stdout",
     "output_type": "stream",
     "text": [
      "True\n",
      "True\n",
      "False\n",
      "False\n"
     ]
    }
   ],
   "source": [
    "# Example 1: String with spaces\n",
    "s1 = \"   \"\n",
    "print(s1.isspace())  # Output: True\n",
    "\n",
    "# Example 2: String with tabs and newlines\n",
    "s2 = \"\\t\\n\"\n",
    "print(s2.isspace())  # Output: True\n",
    "\n",
    "# Example 3: String with non-whitespace characters\n",
    "s3 = \"Hello\"\n",
    "print(s3.isspace())  # Output: False\n",
    "\n",
    "# Example 4: Empty string\n",
    "s4 = \"\"\n",
    "print(s4.isspace())  # Output: False\n"
   ]
  },
  {
   "cell_type": "markdown",
   "id": "df51731a-cb1f-411f-a40c-655368403a7e",
   "metadata": {},
   "source": [
    "22)str.istitle()\n",
    "Returns True if the string is titlecased."
   ]
  },
  {
   "cell_type": "code",
   "execution_count": 145,
   "id": "9d5c716e-7ae5-4b9b-b9d0-1346c82b1c6b",
   "metadata": {},
   "outputs": [
    {
     "name": "stdout",
     "output_type": "stream",
     "text": [
      "True\n",
      "False\n",
      "False\n",
      "True\n",
      "False\n"
     ]
    }
   ],
   "source": [
    "# Example 1: Title case string\n",
    "text1 = \"Hello World\"\n",
    "print(text1.istitle())  # Output: True\n",
    "\n",
    "# Example 2: Not title case\n",
    "text2 = \"hello world\"\n",
    "print(text2.istitle())  # Output: False\n",
    "\n",
    "# Example 3: Mixed case\n",
    "text3 = \"Hello world\"\n",
    "print(text3.istitle())  # Output: False\n",
    "\n",
    "# Example 4: Non-alphabetic characters\n",
    "text4 = \"123 Hello World!\"\n",
    "print(text4.istitle())  # Output: True\n",
    "\n",
    "# Example 5: Empty string\n",
    "text5 = \"\"\n",
    "print(text5.istitle())  # Output: False\n"
   ]
  },
  {
   "cell_type": "markdown",
   "id": "29b8d291-0241-45f2-bcc6-8a04ad6fae76",
   "metadata": {},
   "source": [
    "23)str.isupper()\n",
    "Returns True if all characters are uppercase."
   ]
  },
  {
   "cell_type": "code",
   "execution_count": 146,
   "id": "e418264e-e68b-4795-b130-6fdcab46427d",
   "metadata": {},
   "outputs": [
    {
     "name": "stdout",
     "output_type": "stream",
     "text": [
      "True\n",
      "False\n",
      "False\n",
      "True\n",
      "False\n"
     ]
    }
   ],
   "source": [
    "# Example 1: All uppercase letters\n",
    "text = \"HELLO\"\n",
    "print(text.isupper())  # Output: True\n",
    "\n",
    "# Example 2: Mixed case\n",
    "text = \"Hello\"\n",
    "print(text.isupper())  # Output: False\n",
    "\n",
    "# Example 3: Non-alphabetic characters\n",
    "text = \"123!\"\n",
    "print(text.isupper())  # Output: False\n",
    "\n",
    "# Example 4: Uppercase with non-alphabetic characters\n",
    "text = \"HELLO123!\"\n",
    "print(text.isupper())  # Output: True\n",
    "\n",
    "# Example 5: Empty string\n",
    "text = \"\"\n",
    "print(text.isupper())  # Output: False\n"
   ]
  },
  {
   "cell_type": "markdown",
   "id": "8dd86ba9-c736-4850-86d2-c51aa14f8a8d",
   "metadata": {},
   "source": [
    "24)str.join(iterable)\n",
    "Joins elements of an iterable with the string as a separator."
   ]
  },
  {
   "cell_type": "code",
   "execution_count": 149,
   "id": "b141fcc6-c2c3-4ae7-9528-a6ad7c55bf70",
   "metadata": {},
   "outputs": [
    {
     "name": "stdout",
     "output_type": "stream",
     "text": [
      "Hello world Python\n"
     ]
    }
   ],
   "source": [
    "words = [\"Hello\", \"world\", \"Python\"]\n",
    "result = \" \".join(words)\n",
    "print(result)  # Output: \"Hello world Python\""
   ]
  },
  {
   "cell_type": "markdown",
   "id": "d4e12716-0a8b-49b9-84c2-a53f3c184ca3",
   "metadata": {},
   "source": [
    "25)str.ljust(width[, fillchar])\n",
    "Left-justifies the string."
   ]
  },
  {
   "cell_type": "code",
   "execution_count": 153,
   "id": "c29a4589-8bef-41f3-8f43-7e703547f420",
   "metadata": {},
   "outputs": [
    {
     "name": "stdout",
     "output_type": "stream",
     "text": [
      "Hello@@@@@@@@@@@@@@@\n"
     ]
    }
   ],
   "source": [
    "text = \"Hello\"\n",
    "result = text.ljust(20,\"@\")\n",
    "print(result)  # Output: 'Hello     '\n"
   ]
  },
  {
   "cell_type": "markdown",
   "id": "8523d7ad-cbb4-40a7-a234-956613fdc45f",
   "metadata": {},
   "source": [
    "26)str.lower()\n",
    "Converts to lowercase."
   ]
  },
  {
   "cell_type": "code",
   "execution_count": 154,
   "id": "9500c344-9f82-4c85-ad87-3fa0306d0528",
   "metadata": {},
   "outputs": [
    {
     "name": "stdout",
     "output_type": "stream",
     "text": [
      "python\n"
     ]
    }
   ],
   "source": [
    "string=\"PYTHON\"\n",
    "print(string.lower())"
   ]
  },
  {
   "cell_type": "markdown",
   "id": "41b635c2-641e-47ce-a8a8-cd58932f6722",
   "metadata": {},
   "source": [
    "27)str.lstrip([chars])\n",
    "Removes leading characters (default: whitespace)."
   ]
  },
  {
   "cell_type": "code",
   "execution_count": 155,
   "id": "8f4ed30b-393c-4fd5-973a-1bc9f0eb4cab",
   "metadata": {},
   "outputs": [
    {
     "name": "stdout",
     "output_type": "stream",
     "text": [
      "Hello, World!\n"
     ]
    }
   ],
   "source": [
    "text = \"   Hello, World!\"\n",
    "result = text.lstrip()\n",
    "print(result)  # Output: \"Hello, World!\"\n"
   ]
  },
  {
   "cell_type": "code",
   "execution_count": 156,
   "id": "b0a80a62-fec3-46cc-aa89-dabad3d50050",
   "metadata": {},
   "outputs": [
    {
     "name": "stdout",
     "output_type": "stream",
     "text": [
      "Python###\n"
     ]
    }
   ],
   "source": [
    "text = \"###Python###\"\n",
    "result = text.lstrip(\"#\")\n",
    "print(result)  # Output: \"Python###\"\n"
   ]
  },
  {
   "cell_type": "markdown",
   "id": "c254dc18-81a5-452f-9f77-18922dd091fd",
   "metadata": {},
   "source": [
    "28)str.maketrans(x, y=None, z=None)\n",
    "Returns a translation table."
   ]
  },
  {
   "cell_type": "code",
   "execution_count": 157,
   "id": "f45fade2-6112-4e53-b66f-fcd7f6381d17",
   "metadata": {},
   "outputs": [
    {
     "data": {
      "text/plain": [
       "'that at a cat'"
      ]
     },
     "execution_count": 157,
     "metadata": {},
     "output_type": "execute_result"
    }
   ],
   "source": [
    "table= string.maketrans(\"is\",\"at\")\n",
    "\"this is a cat\".translate(table)"
   ]
  },
  {
   "cell_type": "code",
   "execution_count": 158,
   "id": "dc0f70bd-cf82-4264-ae0d-6f12c4f1130c",
   "metadata": {},
   "outputs": [
    {
     "name": "stdout",
     "output_type": "stream",
     "text": [
      "de\n"
     ]
    }
   ],
   "source": [
    "# Remove 'a', 'b', and 'c'\n",
    "translation_table = str.maketrans(\"\", \"\", \"abc\")\n",
    "result = \"abcde\".translate(translation_table)\n",
    "print(result)  # Output: de\n"
   ]
  },
  {
   "cell_type": "markdown",
   "id": "64b80001-93b8-4166-ab13-35c7b7648db0",
   "metadata": {},
   "source": [
    "29)str.partition(sep)\n",
    "Splits the string at the first occurrence of sep."
   ]
  },
  {
   "cell_type": "code",
   "execution_count": 161,
   "id": "38fd1bde-d785-447e-986b-840e8d1202ec",
   "metadata": {},
   "outputs": [
    {
     "name": "stdout",
     "output_type": "stream",
     "text": [
      "('Hello', ', ', 'world!')\n"
     ]
    }
   ],
   "source": [
    "text = \"Hello, world!\"\n",
    "result = text.partition(\", \")\n",
    "print(result)\n",
    "# Output: ('Hello', ', ', 'world!')\n"
   ]
  },
  {
   "cell_type": "code",
   "execution_count": 162,
   "id": "35887c02-6f5a-4ba4-b4cc-76792a3ebcae",
   "metadata": {},
   "outputs": [
    {
     "name": "stdout",
     "output_type": "stream",
     "text": [
      "('Hello world!', '', '')\n"
     ]
    }
   ],
   "source": [
    "text = \"Hello world!\"\n",
    "result = text.partition(\", \")\n",
    "print(result)\n",
    "# Output: ('Hello world!', '', '')\n"
   ]
  },
  {
   "cell_type": "code",
   "execution_count": 163,
   "id": "718c0eca-b03c-4328-bdc2-17c14cc6295d",
   "metadata": {},
   "outputs": [
    {
     "name": "stdout",
     "output_type": "stream",
     "text": [
      "('apple', '-', 'banana-cherry')\n"
     ]
    }
   ],
   "source": [
    "text = \"apple-banana-cherry\"\n",
    "result = text.partition(\"-\")\n",
    "print(result)\n",
    "# Output: ('apple', '-', 'banana-cherry')\n"
   ]
  },
  {
   "cell_type": "markdown",
   "id": "46d9b462-6db5-450d-bde1-c9a88c12fb14",
   "metadata": {},
   "source": [
    "30)str.removeprefix(prefix)\n",
    "Removes the specified prefix if present."
   ]
  },
  {
   "cell_type": "code",
   "execution_count": 164,
   "id": "5939aa74-5096-4183-849a-ef898e859cca",
   "metadata": {},
   "outputs": [
    {
     "name": "stdout",
     "output_type": "stream",
     "text": [
      "World\n"
     ]
    }
   ],
   "source": [
    "text = \"HelloWorld\"\n",
    "result = text.removeprefix(\"Hello\")\n",
    "print(result)  # Output: \"World\"\n"
   ]
  },
  {
   "cell_type": "code",
   "execution_count": 165,
   "id": "e68f50f3-8d77-4c48-810c-b46f8fb06bf4",
   "metadata": {},
   "outputs": [
    {
     "name": "stdout",
     "output_type": "stream",
     "text": [
      "HelloWorld\n"
     ]
    }
   ],
   "source": [
    "text = \"HelloWorld\"\n",
    "result = text.removeprefix(\"Hi\")\n",
    "print(result)  # Output: \"HelloWorld\"\n"
   ]
  },
  {
   "cell_type": "code",
   "execution_count": 166,
   "id": "a74ffebd-fccb-4a9e-b156-47a97c5006e1",
   "metadata": {},
   "outputs": [
    {
     "name": "stdout",
     "output_type": "stream",
     "text": [
      "HelloWorld\n"
     ]
    }
   ],
   "source": [
    "text = \"HelloWorld\"\n",
    "result = text.removeprefix(\"\")\n",
    "print(result)  # Output: \"HelloWorld\"\n"
   ]
  },
  {
   "cell_type": "markdown",
   "id": "88a247a7-70f2-4d4b-869b-1857f81bf3c9",
   "metadata": {},
   "source": [
    "31)str.removesuffix(suffix)\n",
    "Removes the specified suffix if present."
   ]
  },
  {
   "cell_type": "code",
   "execution_count": 169,
   "id": "b83cc642-6966-4a26-8dd0-91428d84bb28",
   "metadata": {},
   "outputs": [
    {
     "name": "stdout",
     "output_type": "stream",
     "text": [
      "Hello\n"
     ]
    }
   ],
   "source": [
    "text=\"Helloworld\"\n",
    "result=text.removesuffix(\"world\")\n",
    "print(result)"
   ]
  },
  {
   "cell_type": "markdown",
   "id": "afdffbeb-1400-44ca-a73b-36aab63e12ef",
   "metadata": {},
   "source": [
    "32)str.replace(old, new[, count])\n",
    "Returns a copy with all occurrences of a substring replaced."
   ]
  },
  {
   "cell_type": "code",
   "execution_count": 170,
   "id": "8bbdf19f-2930-466c-8cbb-3a81d79812f2",
   "metadata": {},
   "outputs": [
    {
     "name": "stdout",
     "output_type": "stream",
     "text": [
      "Hello, Python!\n"
     ]
    }
   ],
   "source": [
    "text = \"Hello, world!\"\n",
    "result = text.replace(\"world\", \"Python\")\n",
    "print(result)  # Output: Hello, Python!\n"
   ]
  },
  {
   "cell_type": "code",
   "execution_count": 171,
   "id": "4cae5f60-c826-431e-bfdd-b13c1128a6ff",
   "metadata": {},
   "outputs": [
    {
     "name": "stdout",
     "output_type": "stream",
     "text": [
      "orange orange apple\n"
     ]
    }
   ],
   "source": [
    "text = \"apple apple apple\"\n",
    "result = text.replace(\"apple\", \"orange\", 2)\n",
    "print(result)  # Output: orange orange apple\n"
   ]
  },
  {
   "cell_type": "code",
   "execution_count": 172,
   "id": "19e362f6-ae61-4957-8349-56051483ca8a",
   "metadata": {},
   "outputs": [
    {
     "name": "stdout",
     "output_type": "stream",
     "text": [
      "Python is fun. awesome is powerful.\n"
     ]
    }
   ],
   "source": [
    "text = \"Python is fun. python is powerful.\"\n",
    "result = text.replace(\"python\", \"awesome\")\n",
    "print(result)  # Output: Python is fun. awesome is powerful.\n"
   ]
  },
  {
   "cell_type": "markdown",
   "id": "cd7ee94b-a1bd-4f1e-a871-28647e53ab43",
   "metadata": {},
   "source": [
    "33)str.rfind(sub[, start[, end]])\n",
    "Returns the highest index of the substring."
   ]
  },
  {
   "cell_type": "code",
   "execution_count": 173,
   "id": "068e1651-8552-424b-8171-f00d93421e1f",
   "metadata": {},
   "outputs": [
    {
     "name": "stdout",
     "output_type": "stream",
     "text": [
      "13\n"
     ]
    }
   ],
   "source": [
    "text = \"hello world, hello universe\"\n",
    "index = text.rfind(\"hello\")\n",
    "print(index)  # Output: 13 (rightmost \"hello\")\n"
   ]
  },
  {
   "cell_type": "code",
   "execution_count": 175,
   "id": "1064983f-c7f4-43b7-aab4-39521871fcc4",
   "metadata": {},
   "outputs": [
    {
     "name": "stdout",
     "output_type": "stream",
     "text": [
      "1\n"
     ]
    }
   ],
   "source": [
    "text = \"chello world, hello universe\"\n",
    "index = text.rfind(\"hello\", 0, 12)\n",
    "print(index)  # Output: 0 (search limited to \"hello world\")\n"
   ]
  },
  {
   "cell_type": "markdown",
   "id": "b1b566b4-cd79-46e4-a9da-c97b4bc1c47c",
   "metadata": {},
   "source": [
    "34)str.rindex(sub[, start[, end]])\n",
    "Like rfind() but raises ValueError if not found."
   ]
  },
  {
   "cell_type": "code",
   "execution_count": 176,
   "id": "8f00ef53-73de-4d37-a2e0-adc8f5556abf",
   "metadata": {},
   "outputs": [
    {
     "name": "stdout",
     "output_type": "stream",
     "text": [
      "13\n"
     ]
    }
   ],
   "source": [
    "text = \"hello world, hello universe\"\n",
    "index = text.rindex(\"hello\")\n",
    "print(index)  # Output: 13 (last occurrence of \"hello\")\n"
   ]
  },
  {
   "cell_type": "code",
   "execution_count": 177,
   "id": "6f17657b-f54b-4143-88c4-7d3d9fdbf387",
   "metadata": {},
   "outputs": [
    {
     "name": "stdout",
     "output_type": "stream",
     "text": [
      "0\n"
     ]
    }
   ],
   "source": [
    "text = \"hello world, hello universe\"\n",
    "index = text.rindex(\"hello\", 0, 12)\n",
    "print(index)  # Output: 0 (search is limited to the range 0-12)\n"
   ]
  },
  {
   "cell_type": "markdown",
   "id": "8411ca88-10f3-4a14-9f64-d75fccd71106",
   "metadata": {},
   "source": [
    "35)str.rjust(width[, fillchar])\n",
    "Right-justifies the string."
   ]
  },
  {
   "cell_type": "code",
   "execution_count": 178,
   "id": "704acda2-ef6e-4be8-b256-190561b611ad",
   "metadata": {},
   "outputs": [
    {
     "name": "stdout",
     "output_type": "stream",
     "text": [
      "     Hello\n"
     ]
    }
   ],
   "source": [
    "text = \"Hello\"\n",
    "result = text.rjust(10)\n",
    "print(result)  # Output: \"     Hello\"\n"
   ]
  },
  {
   "cell_type": "code",
   "execution_count": 179,
   "id": "fce2e854-ab8c-4fe7-9f0b-6060ee9d8ff6",
   "metadata": {},
   "outputs": [
    {
     "name": "stdout",
     "output_type": "stream",
     "text": [
      "-----Hello\n"
     ]
    }
   ],
   "source": [
    "text = \"Hello\"\n",
    "result = text.rjust(10, '-')\n",
    "print(result)  # Output: \"-----Hello\"\n"
   ]
  },
  {
   "cell_type": "markdown",
   "id": "03c94319-3769-48c2-9b25-0efc736bd902",
   "metadata": {},
   "source": [
    "36)str.rsplit(sep=None, maxsplit=-1)\n",
    "Splits the string from the right."
   ]
  },
  {
   "cell_type": "code",
   "execution_count": 180,
   "id": "33bee5ab-0058-404a-809f-9107301dfdd4",
   "metadata": {},
   "outputs": [
    {
     "name": "stdout",
     "output_type": "stream",
     "text": [
      "['apple,banana', 'cherry']\n"
     ]
    }
   ],
   "source": [
    "text = \"apple,banana,cherry\"\n",
    "result = text.rsplit(\",\", 1)\n",
    "print(result)  # Output: ['apple,banana', 'cherry']\n"
   ]
  },
  {
   "cell_type": "code",
   "execution_count": 181,
   "id": "880e7a1a-526d-49fd-9113-7a19057be377",
   "metadata": {},
   "outputs": [
    {
     "name": "stdout",
     "output_type": "stream",
     "text": [
      "['a:b:c', 'd', 'e']\n"
     ]
    }
   ],
   "source": [
    "text = \"a:b:c:d:e\"\n",
    "result = text.rsplit(\":\", 2)\n",
    "print(result)  # Output: ['a:b:c', 'd', 'e']\n"
   ]
  },
  {
   "cell_type": "markdown",
   "id": "fb7fcdba-e74b-43f4-bcb8-ebd50bb54f39",
   "metadata": {},
   "source": [
    "37)str.rstrip([chars])\n",
    "Removes trailing characters (default: whitespace)."
   ]
  },
  {
   "cell_type": "code",
   "execution_count": 182,
   "id": "483a1354-9fb8-40be-a321-0b7c711cc4cd",
   "metadata": {},
   "outputs": [
    {
     "name": "stdout",
     "output_type": "stream",
     "text": [
      "Hello World\n"
     ]
    }
   ],
   "source": [
    "text = \"Hello World   \"\n",
    "cleaned = text.rstrip()\n",
    "print(cleaned)  # Output: \"Hello World\"\n"
   ]
  },
  {
   "cell_type": "code",
   "execution_count": 184,
   "id": "17a95ad9-43c6-430d-89bc-7f839a58339e",
   "metadata": {},
   "outputs": [
    {
     "name": "stdout",
     "output_type": "stream",
     "text": [
      "banana\n"
     ]
    }
   ],
   "source": [
    "text = \"banana,,,,,ssqqqww.....\"\n",
    "cleaned = text.rstrip(\",qsw.\")\n",
    "print(cleaned)  # Output: \"banana\"\n"
   ]
  },
  {
   "cell_type": "markdown",
   "id": "cbdfd99f-0b6e-4220-b4fc-2cdb5df31017",
   "metadata": {},
   "source": [
    "38)str.split(sep=None, maxsplit=-1)\n",
    "Splits the string."
   ]
  },
  {
   "cell_type": "code",
   "execution_count": 185,
   "id": "30158a66-aa73-4bd8-9d24-dd550a5bc1e6",
   "metadata": {},
   "outputs": [
    {
     "data": {
      "text/plain": [
       "['Rohit', 'tyagi@gmail.@com']"
      ]
     },
     "execution_count": 185,
     "metadata": {},
     "output_type": "execute_result"
    }
   ],
   "source": [
    "string = \"Rohit tyagi@gmail.@com\"\n",
    "string.split(\" \")"
   ]
  },
  {
   "cell_type": "code",
   "execution_count": 186,
   "id": "a53adc35-df46-493d-a644-f430044921ca",
   "metadata": {},
   "outputs": [
    {
     "name": "stdout",
     "output_type": "stream",
     "text": [
      "['Hello', 'world!', 'Welcome', 'to', 'Python.']\n"
     ]
    }
   ],
   "source": [
    "text = \"Hello world! Welcome to Python.\"\n",
    "result = text.split()\n",
    "print(result)  # Output: ['Hello', 'world!', 'Welcome', 'to', 'Python.']\n"
   ]
  },
  {
   "cell_type": "markdown",
   "id": "d274099b-2733-4c32-83d3-3d89146a567a",
   "metadata": {},
   "source": [
    "39)str.splitlines([keepends])\n",
    "Splits at line breaks."
   ]
  },
  {
   "cell_type": "code",
   "execution_count": 190,
   "id": "0e05dfeb-7b43-4fe6-b993-3feb5369b445",
   "metadata": {},
   "outputs": [
    {
     "name": "stdout",
     "output_type": "stream",
     "text": [
      "['Hello', 'World', 'Python']\n"
     ]
    }
   ],
   "source": [
    "text = \"Hello\\nWorld\\nPython\"\n",
    "lines = text.splitlines()\n",
    "print(lines)  # Output: ['Hello', 'World', 'Python']\n"
   ]
  },
  {
   "cell_type": "markdown",
   "id": "ae6ab0f8-8270-4bd6-a7b0-28aa405d4795",
   "metadata": {},
   "source": [
    "40)str.startswith(prefix[, start[, end]])\n",
    "Returns True if the string starts with the prefix."
   ]
  },
  {
   "cell_type": "code",
   "execution_count": 191,
   "id": "fdba9163-60f4-4439-bb25-42b5f48149de",
   "metadata": {},
   "outputs": [
    {
     "name": "stdout",
     "output_type": "stream",
     "text": [
      "True\n"
     ]
    }
   ],
   "source": [
    "string=\"python\"\n",
    "print(string.startswith(\"p\"))"
   ]
  },
  {
   "cell_type": "markdown",
   "id": "3d8bd12d-e004-4300-8f2e-26f5234d9cd2",
   "metadata": {},
   "source": [
    "41)str.strip([chars])\n",
    "Removes leading and trailing characters."
   ]
  },
  {
   "cell_type": "code",
   "execution_count": 192,
   "id": "46ad322d-0713-49f0-b291-db1a84207feb",
   "metadata": {},
   "outputs": [
    {
     "name": "stdout",
     "output_type": "stream",
     "text": [
      "Hello, World!\n"
     ]
    }
   ],
   "source": [
    "text = \"   Hello, World!   \"\n",
    "result = text.strip()\n",
    "print(result)  # Output: \"Hello, World!\"\n"
   ]
  },
  {
   "cell_type": "code",
   "execution_count": 193,
   "id": "709a258f-ff45-44c2-9557-4f790d4e849e",
   "metadata": {},
   "outputs": [
    {
     "name": "stdout",
     "output_type": "stream",
     "text": [
      "Welcome\n"
     ]
    }
   ],
   "source": [
    "text = \"###Welcome###\"\n",
    "result = text.strip(\"#\")\n",
    "print(result)  # Output: \"Welcome\"\n"
   ]
  },
  {
   "cell_type": "code",
   "execution_count": 194,
   "id": "b6699de1-9d73-41b9-ba1c-1d647bec7fa9",
   "metadata": {},
   "outputs": [
    {
     "name": "stdout",
     "output_type": "stream",
     "text": [
      "Hello\n"
     ]
    }
   ],
   "source": [
    "text = \"abcHelloabc\"\n",
    "result = text.strip(\"abc\")\n",
    "print(result)  # Output: \"Hello\"\n"
   ]
  },
  {
   "cell_type": "markdown",
   "id": "c9990a37-128b-4104-8b00-208c521ebc3b",
   "metadata": {},
   "source": [
    "42)str.swapcase()\n",
    "Swaps case of all characters."
   ]
  },
  {
   "cell_type": "code",
   "execution_count": 195,
   "id": "8eba76ac-f9c2-4f52-8a25-50bcda5fd872",
   "metadata": {},
   "outputs": [
    {
     "name": "stdout",
     "output_type": "stream",
     "text": [
      "hELLO wORLD\n"
     ]
    }
   ],
   "source": [
    "string=\"Hello World\"\n",
    "print(string.swapcase())"
   ]
  },
  {
   "cell_type": "markdown",
   "id": "d8963bab-d11e-4b65-9edf-ed7ef5928deb",
   "metadata": {},
   "source": [
    "43)str.title()\n",
    "Returns a titlecased version of the string."
   ]
  },
  {
   "cell_type": "code",
   "execution_count": 196,
   "id": "1e37d339-5f57-4ec8-87b7-5294b3109ede",
   "metadata": {},
   "outputs": [
    {
     "name": "stdout",
     "output_type": "stream",
     "text": [
      "Hello World! Python Is Amazing.\n"
     ]
    }
   ],
   "source": [
    "text = \"hello world! python is amazing.\"\n",
    "formatted_text = text.title()\n",
    "print(formatted_text)\n"
   ]
  },
  {
   "cell_type": "markdown",
   "id": "f04e2c31-82d9-4ccc-9404-09a11dd1bb81",
   "metadata": {},
   "source": [
    "44)str.translate(table)\n",
    "Returns a translated string."
   ]
  },
  {
   "cell_type": "code",
   "execution_count": 197,
   "id": "9934679c-39c8-4f6f-9fa1-b5ebf7d5de70",
   "metadata": {},
   "outputs": [
    {
     "name": "stdout",
     "output_type": "stream",
     "text": [
      "h2ll4 w4rld\n"
     ]
    }
   ],
   "source": [
    "# Create a translation table\n",
    "table = str.maketrans(\"aeiou\", \"12345\")\n",
    "result = \"hello world\".translate(table)\n",
    "print(result)  # Output: h2ll4 w4rld\n"
   ]
  },
  {
   "cell_type": "markdown",
   "id": "a026b693-c910-4308-81f4-2a5f399b6dca",
   "metadata": {},
   "source": [
    "45)str.upper()\n",
    "Converts all characters to uppercase."
   ]
  },
  {
   "cell_type": "code",
   "execution_count": 198,
   "id": "82103fdb-bd78-449a-a1a8-2e288fcc16a6",
   "metadata": {},
   "outputs": [
    {
     "name": "stdout",
     "output_type": "stream",
     "text": [
      "PYTHON\n"
     ]
    }
   ],
   "source": [
    "string=\"python\"\n",
    "print(string.upper())"
   ]
  },
  {
   "cell_type": "markdown",
   "id": "1f2d64c2-cd66-4ad8-ba2b-c0c1a23568c0",
   "metadata": {},
   "source": [
    "46)str.zfill(width)\n",
    "Pads the string on the left with zeros."
   ]
  },
  {
   "cell_type": "code",
   "execution_count": 199,
   "id": "f0831834-1dd0-4e09-abc0-cb973460f50f",
   "metadata": {},
   "outputs": [
    {
     "name": "stdout",
     "output_type": "stream",
     "text": [
      "00042\n"
     ]
    }
   ],
   "source": [
    "s = \"42\"\n",
    "print(s.zfill(5))  # Output: \"00042\"\n"
   ]
  },
  {
   "cell_type": "code",
   "execution_count": 200,
   "id": "7264fc0c-1a2d-498c-b2f0-f6c077aff1a0",
   "metadata": {},
   "outputs": [
    {
     "name": "stdout",
     "output_type": "stream",
     "text": [
      "12345\n"
     ]
    }
   ],
   "source": [
    "s = \"12345\"\n",
    "print(s.zfill(3))  # Output: \"12345\" (unchanged)\n"
   ]
  },
  {
   "cell_type": "code",
   "execution_count": null,
   "id": "c899d54a-b5e1-4558-bf66-9797fdcd7777",
   "metadata": {},
   "outputs": [],
   "source": []
  }
 ],
 "metadata": {
  "kernelspec": {
   "display_name": "Python 3 (ipykernel)",
   "language": "python",
   "name": "python3"
  },
  "language_info": {
   "codemirror_mode": {
    "name": "ipython",
    "version": 3
   },
   "file_extension": ".py",
   "mimetype": "text/x-python",
   "name": "python",
   "nbconvert_exporter": "python",
   "pygments_lexer": "ipython3",
   "version": "3.13.5"
  }
 },
 "nbformat": 4,
 "nbformat_minor": 5
}
