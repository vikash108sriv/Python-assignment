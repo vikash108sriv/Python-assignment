{
 "cells": [
  {
   "cell_type": "code",
   "execution_count": 14,
   "id": "48992fdb-14d1-4010-9a33-743058c17a02",
   "metadata": {},
   "outputs": [
    {
     "name": "stdin",
     "output_type": "stream",
     "text": [
      "Enter the candidate's address: noida\n",
      "Enter full name: vikash\n",
      "Enter designation : data analyst\n",
      "Enter date of joining: 2-05-25\n",
      "Enter the ctc offered 88888\n",
      "Enter email id: vikashsriv02@gmail.com\n",
      "enter name: sunil\n"
     ]
    },
    {
     "name": "stdout",
     "output_type": "stream",
     "text": [
      "\n",
      "noida \n",
      "\n",
      "Dear vikash,\n",
      "\n",
      "Subject: Offer of Employment for the position of data analyst\n",
      "\n",
      "We are delighted to extend this formal offer of employment to you for the position of data analyst at our organization. Based on your qualifications and the skills you demonstrated during the recruitment process, we are confident that you will be a valuable addition to our team.\n",
      "\n",
      "As discussed, your expected date of joining is 2-05-25. Your total compensation package will be 88888, which includes all salary components as per the company’s policy. Further details regarding your compensation will be provided in your employment contract.\n",
      "\n",
      "We expect you to bring your best efforts to help the company achieve its goals, and we are committed to supporting your professional growth during your time with us.\n",
      "\n",
      "Please confirm your acceptance of this offer by sending an email to vikashsriv02@gmail.com at your earliest convenience. Should you have any queries regarding this offer, feel free to reach out to us.\n",
      "\n",
      "We look forward to having you onboard and are excited about the great things we can accomplish together.\n",
      "\n",
      "Sincerely,\n",
      "\n",
      "sunil\n",
      "HR Manager\n",
      "\n"
     ]
    }
   ],
   "source": [
    "address=input(\"Enter the candidate's address:\")\n",
    "Full_name=input(\"Enter full name:\")\n",
    "designation=input(\"Enter designation :\")\n",
    "joining_date=input(\"Enter date of joining:\")\n",
    "ctc=input(\"Enter the ctc offered\")\n",
    "email_id=input(\"Enter email id:\")\n",
    "name=input(\"enter name:\")\n",
    "                                                            \n",
    "\n",
    "\n",
    "offer_letter_content=f\"\"\"\n",
    "{address} \n",
    "\n",
    "Dear {Full_name},\n",
    "\n",
    "Subject: Offer of Employment for the position of {designation}\n",
    "\n",
    "We are delighted to extend this formal offer of employment to you for the position of {designation} at our organization. Based on your qualifications and the skills you demonstrated during the recruitment process, we are confident that you will be a valuable addition to our team.\n",
    "\n",
    "As discussed, your expected date of joining is {joining_date}. Your total compensation package will be {ctc}, which includes all salary components as per the company’s policy. Further details regarding your compensation will be provided in your employment contract.\n",
    "\n",
    "We expect you to bring your best efforts to help the company achieve its goals, and we are committed to supporting your professional growth during your time with us.\n",
    "\n",
    "Please confirm your acceptance of this offer by sending an email to {email_id} at your earliest convenience. Should you have any queries regarding this offer, feel free to reach out to us.\n",
    "\n",
    "We look forward to having you onboard and are excited about the great things we can accomplish together.\n",
    "\n",
    "Sincerely,\n",
    "\n",
    "{name}\n",
    "HR Manager\n",
    "\"\"\"\n",
    "print(offer_letter_content)"
   ]
  },
  {
   "cell_type": "code",
   "execution_count": null,
   "id": "bc816e0a-048d-4e98-853a-e73399315334",
   "metadata": {},
   "outputs": [],
   "source": []
  }
 ],
 "metadata": {
  "kernelspec": {
   "display_name": "Python 3 (ipykernel)",
   "language": "python",
   "name": "python3"
  },
  "language_info": {
   "codemirror_mode": {
    "name": "ipython",
    "version": 3
   },
   "file_extension": ".py",
   "mimetype": "text/x-python",
   "name": "python",
   "nbconvert_exporter": "python",
   "pygments_lexer": "ipython3",
   "version": "3.13.5"
  }
 },
 "nbformat": 4,
 "nbformat_minor": 5
}
