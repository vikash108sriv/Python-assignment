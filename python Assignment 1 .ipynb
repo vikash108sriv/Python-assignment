{
 "cells": [
  {
   "cell_type": "markdown",
   "id": "0f653f36-587f-4ace-86c7-8625e273e149",
   "metadata": {},
   "source": [
    "1. In the below elements which of them are values or an expression? eg:- values can be\n",
    "integer or string and expressions will be mathematical operators.\n",
    "*\n",
    "'hello'\n",
    "-87.8\n",
    "-\n",
    "/\n",
    "+\n",
    "6"
   ]
  },
  {
   "cell_type": "code",
   "execution_count": null,
   "id": "54d27f91-7ce7-4dd0-b371-2efdf8ec414b",
   "metadata": {},
   "outputs": [],
   "source": [
    "* expression\n",
    "'hello'value (string)\n",
    "-87.8 value (integer)\n",
    "-expression\n",
    "/expression\n",
    "+expresssion\n",
    "6 value (integer)"
   ]
  },
  {
   "cell_type": "markdown",
   "id": "912f1cc5-c1e1-40dd-8aa3-72540fba1020",
   "metadata": {},
   "source": [
    "2. What is the difference between string and variable?"
   ]
  },
  {
   "cell_type": "code",
   "execution_count": null,
   "id": "9a9d900e-4d14-4a8a-8924-ff0c7f3b1fef",
   "metadata": {},
   "outputs": [],
   "source": [
    "1. String\n",
    "A string is a data type in Python used to represent text. It is a sequence of characters enclosed in quotes (single ', double \", or triple quotes '''/\"\"\").\n",
    "2. Variable\n",
    "A variable is a container or name used to store data (including strings, numbers, lists, etc.). It acts as a reference to a value in memory.\n",
    " Key Differences\n",
    "Aspect\tString\tVariable\n",
    "Definition\tA data type representing text.\tA name used to store and reference data.\n",
    "Usage\tEnclosed in quotes (e.g., \"text\").\tAssigned using = (e.g., x = value).\n",
    "Example\t\"Python\" (a literal string).\tname = \"Python\" (variable storing a string)."
   ]
  },
  {
   "cell_type": "markdown",
   "id": "1ee72664-86f4-401b-a638-5f5a4d0bd450",
   "metadata": {},
   "source": [
    "3. Describe three different data types."
   ]
  },
  {
   "cell_type": "code",
   "execution_count": null,
   "id": "787665f7-5885-455c-b0b6-dd8afbb1ec8e",
   "metadata": {},
   "outputs": [],
   "source": [
    "Integer (int): Represents whole numbers. Used for counting or indexing, e.g., int age = 25;\n",
    "String: A sequence of characters, used for text, e.g., String name = \"John\";.\n",
    "Floating Point (float, double): Represents numbers with decimals. Ideal for scientific calculations, e.g., float pi = 3.14;."
   ]
  },
  {
   "cell_type": "markdown",
   "id": "6654ef81-5fc5-4d13-9862-80c7b2d468ef",
   "metadata": {},
   "source": [
    "4. What is an expression made up of? What do all expressions do?"
   ]
  },
  {
   "cell_type": "code",
   "execution_count": null,
   "id": "bc57e118-44b9-4a45-95ef-70a8fb4fa084",
   "metadata": {},
   "outputs": [],
   "source": [
    "An expression is a combination of operators and operands that is interpreted to produce some other value. In any programming language, an expression is evaluated as per the precedence of its operators. So that if there is more than one operator in an expression, their precedence decides which operation will be performed first. We have many different types of expressions in Python"
   ]
  },
  {
   "cell_type": "markdown",
   "id": "bdfd275d-5fc8-4ff0-81c9-af168bb5bae3",
   "metadata": {},
   "source": [
    "5. This assignment statements, like spam = 10. What is the difference between an\n",
    "expression and a statement?"
   ]
  },
  {
   "cell_type": "code",
   "execution_count": null,
   "id": "36965ed6-1295-4619-a9bf-d6cc80368d14",
   "metadata": {},
   "outputs": [],
   "source": [
    "327\n",
    "\n",
    "Expressions only contain identifiers, literals and operators, where operators include arithmetic and boolean operators, the function call operator () the subscription operator [] and similar, and can be reduced to some kind of \"value\", which can be any Python object.Statements, on the other hand, are everything that can make up a line (or several lines) of Python code. Note that expressions are statements as well."
   ]
  },
  {
   "cell_type": "markdown",
   "id": "9795a6a6-a6df-4545-bc10-0d91a2095760",
   "metadata": {},
   "source": [
    "6. After running the following code, what does the variable bacon contain?\n",
    "bacon = 22\n",
    "bacon + 1"
   ]
  },
  {
   "cell_type": "code",
   "execution_count": 3,
   "id": "eb4aa537-30cc-42a4-a82a-fc0defadd81c",
   "metadata": {},
   "outputs": [
    {
     "data": {
      "text/plain": [
       "23"
      ]
     },
     "execution_count": 3,
     "metadata": {},
     "output_type": "execute_result"
    }
   ],
   "source": [
    "bacon=22\n",
    "bacon+1"
   ]
  },
  {
   "cell_type": "markdown",
   "id": "25533a6c-da35-42c8-b503-34d04c15cd00",
   "metadata": {},
   "source": [
    "7. What should the values of the following two terms be?\n",
    "'spam' + 'spamspam'\n",
    "'spam' * 3"
   ]
  },
  {
   "cell_type": "code",
   "execution_count": 4,
   "id": "8cb5369c-cc97-4d5b-b0cf-8f7f96e45f1e",
   "metadata": {},
   "outputs": [
    {
     "data": {
      "text/plain": [
       "'spamspamspam'"
      ]
     },
     "execution_count": 4,
     "metadata": {},
     "output_type": "execute_result"
    }
   ],
   "source": [
    "'spam'+'spamspam'"
   ]
  },
  {
   "cell_type": "code",
   "execution_count": 6,
   "id": "61dd7fab-37d6-4483-849a-0ab3ca463be1",
   "metadata": {},
   "outputs": [
    {
     "data": {
      "text/plain": [
       "'spamspamspam'"
      ]
     },
     "execution_count": 6,
     "metadata": {},
     "output_type": "execute_result"
    }
   ],
   "source": [
    "'spam'*3"
   ]
  },
  {
   "cell_type": "markdown",
   "id": "431dd06b-7bee-4897-9c79-3de8495e5817",
   "metadata": {},
   "source": [
    "8. Why is eggs a valid variable name while 100 is invalid?"
   ]
  },
  {
   "cell_type": "code",
   "execution_count": null,
   "id": "006f96fc-efb8-4f01-8639-ae97bfc4f803",
   "metadata": {},
   "outputs": [],
   "source": [
    "Eggs is valid variable name while 100 is invalid because 100 is a integer data type"
   ]
  },
  {
   "cell_type": "markdown",
   "id": "290bde95-af49-4a3b-b38f-014ed21cb881",
   "metadata": {},
   "source": [
    "9. What three functions can be used to get the integer, floating-point number, or string \n",
    "version of a value?"
   ]
  },
  {
   "cell_type": "code",
   "execution_count": null,
   "id": "4b275c68-dde7-45e2-a31b-06c6e9456310",
   "metadata": {},
   "outputs": [],
   "source": [
    "In Python, the three functions used to get the integer, floating-point number, or string version of a value are int(), float(), and str()"
   ]
  },
  {
   "cell_type": "markdown",
   "id": "15574036-665c-4b4e-8992-6955e167815c",
   "metadata": {},
   "source": [
    "10. Why does this expression cause an error? How can you fix it?\n",
    "'I have eaten' + 99 + 'burritos'"
   ]
  },
  {
   "cell_type": "code",
   "execution_count": null,
   "id": "95229eec-2e94-4f19-9240-3ebe31226329",
   "metadata": {},
   "outputs": [],
   "source": [
    "This expression cause an error because 99 is integer and rest are string .yes we can fix it by adding single quotes in 99"
   ]
  },
  {
   "cell_type": "code",
   "execution_count": null,
   "id": "a93a4a3d-c89f-4b8d-b286-48908a3012a6",
   "metadata": {},
   "outputs": [],
   "source": []
  }
 ],
 "metadata": {
  "kernelspec": {
   "display_name": "Python [conda env:base] *",
   "language": "python",
   "name": "conda-base-py"
  },
  "language_info": {
   "codemirror_mode": {
    "name": "ipython",
    "version": 3
   },
   "file_extension": ".py",
   "mimetype": "text/x-python",
   "name": "python",
   "nbconvert_exporter": "python",
   "pygments_lexer": "ipython3",
   "version": "3.13.5"
  }
 },
 "nbformat": 4,
 "nbformat_minor": 5
}
